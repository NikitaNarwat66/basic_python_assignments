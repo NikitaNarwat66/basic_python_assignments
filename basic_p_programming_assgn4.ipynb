{
 "cells": [
  {
   "cell_type": "markdown",
   "id": "0497a903",
   "metadata": {},
   "source": [
    "# PROGRAMMING ASSIGNMENT 4"
   ]
  },
  {
   "cell_type": "code",
   "execution_count": 10,
   "id": "4818bac8",
   "metadata": {},
   "outputs": [],
   "source": [
    "#ANSWER 1:\n",
    "def ans1():\n",
    "    \"\"\"\n",
    "    function returns factorial for given number\n",
    "    \"\"\"\n",
    "    try:\n",
    "        num = int(input(\"Enter a number: \"))\n",
    "\n",
    "        factorial = 1\n",
    "\n",
    "        if num < 0:\n",
    "            return \"Sorry, factorial does not exist for negative numbers\"\n",
    "        elif num == 0:\n",
    "            return \"The factorial of 0 is 1\"\n",
    "        else:\n",
    "            for i in range(1,num + 1):\n",
    "                factorial *= i\n",
    "            return factorial\n",
    "            \n",
    "    except Exception as e:\n",
    "        print(\"enter value as int only. \", e)"
   ]
  },
  {
   "cell_type": "code",
   "execution_count": 11,
   "id": "4ec13dda",
   "metadata": {},
   "outputs": [
    {
     "name": "stdout",
     "output_type": "stream",
     "text": [
      "Enter a number: 8\n"
     ]
    },
    {
     "data": {
      "text/plain": [
       "40320"
      ]
     },
     "execution_count": 11,
     "metadata": {},
     "output_type": "execute_result"
    }
   ],
   "source": [
    "ans1()"
   ]
  },
  {
   "cell_type": "code",
   "execution_count": 12,
   "id": "54f00d1e",
   "metadata": {},
   "outputs": [
    {
     "name": "stdout",
     "output_type": "stream",
     "text": [
      "Enter a number: 0\n"
     ]
    },
    {
     "data": {
      "text/plain": [
       "'The factorial of 0 is 1'"
      ]
     },
     "execution_count": 12,
     "metadata": {},
     "output_type": "execute_result"
    }
   ],
   "source": [
    "ans1()"
   ]
  },
  {
   "cell_type": "code",
   "execution_count": 13,
   "id": "bf97ac6a",
   "metadata": {},
   "outputs": [
    {
     "name": "stdout",
     "output_type": "stream",
     "text": [
      "Enter a number: -345678\n"
     ]
    },
    {
     "data": {
      "text/plain": [
       "'Sorry, factorial does not exist for negative numbers'"
      ]
     },
     "execution_count": 13,
     "metadata": {},
     "output_type": "execute_result"
    }
   ],
   "source": [
    "ans1()"
   ]
  },
  {
   "cell_type": "code",
   "execution_count": 14,
   "id": "57a3ddd3",
   "metadata": {},
   "outputs": [
    {
     "name": "stdout",
     "output_type": "stream",
     "text": [
      "Enter a number: dfgvhbjn\n",
      "enter value as int only.  invalid literal for int() with base 10: 'dfgvhbjn'\n"
     ]
    }
   ],
   "source": [
    "ans1()"
   ]
  },
  {
   "cell_type": "code",
   "execution_count": 39,
   "id": "cc0e3d70",
   "metadata": {},
   "outputs": [],
   "source": [
    "def ans2():\n",
    "    \"\"\"\n",
    "    this function prints the multiplication table of int a upto int b.\n",
    "    \"\"\"\n",
    "    try:\n",
    "        a=int(input(\"enter the number you want multiplication table for: \"))\n",
    "        b=int(input(\"enter the number upto which you want multiplication table: \"))\n",
    "        if a>0 and b>0:\n",
    "            for i in range(1,b+1):\n",
    "                print(a,'x',i,'=',a*i)\n",
    "        else:\n",
    "            return \" enter number greater than 0\"\n",
    "        \n",
    "    except Exception as e:\n",
    "        print(\"enter number as int only. \", e)\n",
    "    \n",
    "            "
   ]
  },
  {
   "cell_type": "code",
   "execution_count": 40,
   "id": "30c3bd37",
   "metadata": {},
   "outputs": [
    {
     "name": "stdout",
     "output_type": "stream",
     "text": [
      "enter the number you want multiplication table for: 2\n",
      "enter the number upto which you want multiplication table: 11\n",
      "2 x 1 = 2\n",
      "2 x 2 = 4\n",
      "2 x 3 = 6\n",
      "2 x 4 = 8\n",
      "2 x 5 = 10\n",
      "2 x 6 = 12\n",
      "2 x 7 = 14\n",
      "2 x 8 = 16\n",
      "2 x 9 = 18\n",
      "2 x 10 = 20\n",
      "2 x 11 = 22\n"
     ]
    }
   ],
   "source": [
    "ans2()"
   ]
  },
  {
   "cell_type": "code",
   "execution_count": 41,
   "id": "2dfbb565",
   "metadata": {},
   "outputs": [
    {
     "name": "stdout",
     "output_type": "stream",
     "text": [
      "enter the number you want multiplication table for: 3\n",
      "enter the number upto which you want multiplication table: 0\n"
     ]
    },
    {
     "data": {
      "text/plain": [
       "' enter number greater than 0'"
      ]
     },
     "execution_count": 41,
     "metadata": {},
     "output_type": "execute_result"
    }
   ],
   "source": [
    "ans2()"
   ]
  },
  {
   "cell_type": "code",
   "execution_count": 42,
   "id": "e6f21bfe",
   "metadata": {},
   "outputs": [
    {
     "name": "stdout",
     "output_type": "stream",
     "text": [
      "enter the number you want multiplication table for: 234567\n",
      "enter the number upto which you want multiplication table: asdfgh\n",
      "enter number as int only.  invalid literal for int() with base 10: 'asdfgh'\n"
     ]
    }
   ],
   "source": [
    "ans2()"
   ]
  },
  {
   "cell_type": "code",
   "execution_count": 43,
   "id": "fe663059",
   "metadata": {},
   "outputs": [],
   "source": [
    "#ANSWER 3:\n",
    "\n",
    "def ans3():\n",
    "    \"\"\"\n",
    "    this function returns the fabonacci series\n",
    "    \"\"\"\n",
    "    try:\n",
    "        a=int(input(\"enter the number you want fabonacci series upto: \"))\n",
    "        b=0\n",
    "        c=1\n",
    "        for i in range(a):\n",
    "            yield b,i\n",
    "            b,c= c,b+c\n",
    "            \n",
    "    except Exception as e:\n",
    "        print(e)\n"
   ]
  },
  {
   "cell_type": "code",
   "execution_count": 45,
   "id": "0e62ef75",
   "metadata": {},
   "outputs": [
    {
     "name": "stdout",
     "output_type": "stream",
     "text": [
      "enter the number you want fabonacci series upto: 4\n",
      "(0, 0)\n",
      "(1, 1)\n",
      "(1, 2)\n",
      "(2, 3)\n"
     ]
    }
   ],
   "source": [
    "for i in ans3():\n",
    "    print(i)"
   ]
  },
  {
   "cell_type": "code",
   "execution_count": 47,
   "id": "2666bb1a",
   "metadata": {},
   "outputs": [
    {
     "name": "stdout",
     "output_type": "stream",
     "text": [
      "enter the number you want fabonacci series upto: wsdefrghj\n",
      "invalid literal for int() with base 10: 'wsdefrghj'\n"
     ]
    }
   ],
   "source": [
    "for i in ans3():\n",
    "    print(i)"
   ]
  },
  {
   "cell_type": "code",
   "execution_count": 30,
   "id": "6faa475d",
   "metadata": {},
   "outputs": [],
   "source": [
    "#ANSWER 4:\n",
    "\n",
    "def ans4():\n",
    "    \"\"\"\n",
    "    this functions returns whether the number is armstrong number or not\n",
    "    \"\"\"\n",
    "    try:\n",
    "        \n",
    "        n=int(input(\"enter number: \"))\n",
    "        order=len(str(n))\n",
    "        sum = 0\n",
    "        temp = n\n",
    "        \n",
    "        while temp > 0:\n",
    "            digit = temp % 10\n",
    "            sum += digit ** order\n",
    "            temp //= 10\n",
    "            \n",
    "            \n",
    "        if n == sum:\n",
    "            return \"number is armstrong number\"\n",
    "        \n",
    "        else:\n",
    "            return \"number is not a armstrong number\"\n",
    "        \n",
    "    except Exception as e:\n",
    "        print(e)"
   ]
  },
  {
   "cell_type": "code",
   "execution_count": 31,
   "id": "f4eb9031",
   "metadata": {},
   "outputs": [
    {
     "name": "stdout",
     "output_type": "stream",
     "text": [
      "enter number: 153\n"
     ]
    },
    {
     "data": {
      "text/plain": [
       "'number is armstrong number'"
      ]
     },
     "execution_count": 31,
     "metadata": {},
     "output_type": "execute_result"
    }
   ],
   "source": [
    "ans4()"
   ]
  },
  {
   "cell_type": "code",
   "execution_count": 32,
   "id": "ceb18207",
   "metadata": {},
   "outputs": [
    {
     "name": "stdout",
     "output_type": "stream",
     "text": [
      "enter number: 23456789\n"
     ]
    },
    {
     "data": {
      "text/plain": [
       "'number is not a armstrong number'"
      ]
     },
     "execution_count": 32,
     "metadata": {},
     "output_type": "execute_result"
    }
   ],
   "source": [
    "ans4()"
   ]
  },
  {
   "cell_type": "code",
   "execution_count": 33,
   "id": "4368cbe3",
   "metadata": {},
   "outputs": [
    {
     "name": "stdout",
     "output_type": "stream",
     "text": [
      "enter number: dfghj\n",
      "invalid literal for int() with base 10: 'dfghj'\n"
     ]
    }
   ],
   "source": [
    "ans4()"
   ]
  },
  {
   "cell_type": "code",
   "execution_count": 40,
   "id": "b82fceaf",
   "metadata": {},
   "outputs": [],
   "source": [
    "#ANSWER 5:\n",
    "\n",
    "def ans5():\n",
    "    \"\"\"\n",
    "    this function returns armstrong numbers in a given range\n",
    "    \"\"\"\n",
    "    try:\n",
    "        \n",
    "        a=int(input(\"enter lower interval range: \"))\n",
    "        b=int(input(\"enter upper interval range: \"))\n",
    "        \n",
    "        for i in range(a, b + 1):\n",
    "            order = len(str(i))\n",
    "            sum = 0\n",
    "            temp = i\n",
    "            \n",
    "            while temp > 0:\n",
    "                digit = temp % 10\n",
    "                sum += digit ** order\n",
    "                temp //= 10\n",
    "\n",
    "            if i == sum:\n",
    "                print(i)\n",
    "            \n",
    "    except Exception as e:\n",
    "        print(e)\n",
    "            \n",
    "    "
   ]
  },
  {
   "cell_type": "code",
   "execution_count": 41,
   "id": "ccfdbff2",
   "metadata": {},
   "outputs": [
    {
     "name": "stdout",
     "output_type": "stream",
     "text": [
      "enter lower interval range: 10\n",
      "enter upper interval range: 1000\n",
      "153\n",
      "370\n",
      "371\n",
      "407\n"
     ]
    }
   ],
   "source": [
    "ans5()"
   ]
  },
  {
   "cell_type": "code",
   "execution_count": 42,
   "id": "948efa6e",
   "metadata": {},
   "outputs": [
    {
     "name": "stdout",
     "output_type": "stream",
     "text": [
      "enter lower interval range: 0\n",
      "enter upper interval range: jhg\n",
      "invalid literal for int() with base 10: 'jhg'\n"
     ]
    }
   ],
   "source": [
    "ans5()"
   ]
  },
  {
   "cell_type": "code",
   "execution_count": 46,
   "id": "7ad47030",
   "metadata": {},
   "outputs": [],
   "source": [
    "#ANSWER 6:\n",
    "\n",
    "def ans6():\n",
    "    \"\"\"\n",
    "    this function returns sum of n natural numbers\n",
    "    \"\"\"\n",
    "    try:\n",
    "        n=int(input(\"enter value for n: \"))\n",
    "        sum=0\n",
    "        if n>1:\n",
    "            for i in range(1,n+1):\n",
    "                sum+=i\n",
    "            return sum\n",
    "        elif n==1:\n",
    "            return \"the sum is 1\"\n",
    "        else:\n",
    "            return \"enter value >=1\"\n",
    "        \n",
    "    except Exception as e:\n",
    "        print(e)"
   ]
  },
  {
   "cell_type": "code",
   "execution_count": 47,
   "id": "29caed03",
   "metadata": {},
   "outputs": [
    {
     "name": "stdout",
     "output_type": "stream",
     "text": [
      "enter value for n: 5\n"
     ]
    },
    {
     "data": {
      "text/plain": [
       "15"
      ]
     },
     "execution_count": 47,
     "metadata": {},
     "output_type": "execute_result"
    }
   ],
   "source": [
    "ans6()"
   ]
  },
  {
   "cell_type": "code",
   "execution_count": 48,
   "id": "60747e65",
   "metadata": {},
   "outputs": [
    {
     "name": "stdout",
     "output_type": "stream",
     "text": [
      "enter value for n: 1\n"
     ]
    },
    {
     "data": {
      "text/plain": [
       "'the sum is 1'"
      ]
     },
     "execution_count": 48,
     "metadata": {},
     "output_type": "execute_result"
    }
   ],
   "source": [
    "ans6()"
   ]
  },
  {
   "cell_type": "code",
   "execution_count": 49,
   "id": "5bf41ab9",
   "metadata": {},
   "outputs": [
    {
     "name": "stdout",
     "output_type": "stream",
     "text": [
      "enter value for n: 0\n"
     ]
    },
    {
     "data": {
      "text/plain": [
       "'enter value >=1'"
      ]
     },
     "execution_count": 49,
     "metadata": {},
     "output_type": "execute_result"
    }
   ],
   "source": [
    "ans6()"
   ]
  },
  {
   "cell_type": "code",
   "execution_count": 50,
   "id": "36a9ed87",
   "metadata": {},
   "outputs": [
    {
     "name": "stdout",
     "output_type": "stream",
     "text": [
      "enter value for n: 098765e43\n",
      "invalid literal for int() with base 10: '098765e43'\n"
     ]
    }
   ],
   "source": [
    "ans6()"
   ]
  }
 ],
 "metadata": {
  "kernelspec": {
   "display_name": "Python 3 (ipykernel)",
   "language": "python",
   "name": "python3"
  },
  "language_info": {
   "codemirror_mode": {
    "name": "ipython",
    "version": 3
   },
   "file_extension": ".py",
   "mimetype": "text/x-python",
   "name": "python",
   "nbconvert_exporter": "python",
   "pygments_lexer": "ipython3",
   "version": "3.9.13"
  }
 },
 "nbformat": 4,
 "nbformat_minor": 5
}
