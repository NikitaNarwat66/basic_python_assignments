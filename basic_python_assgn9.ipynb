{
 "cells": [
  {
   "cell_type": "markdown",
   "id": "63088d44",
   "metadata": {},
   "source": [
    "# ASSIGNMENT 9"
   ]
  },
  {
   "cell_type": "code",
   "execution_count": null,
   "id": "0b8571d9",
   "metadata": {},
   "outputs": [],
   "source": [
    "ANSWER 1:\n",
    "    \n",
    "A relative path is a way to specify the location of a directory relative to another directory. \n",
    "\n",
    "For example, suppose your documents are in C:\\Sample\\Documents and your index is in C:\\Sample\\Index.  \n",
    "The absolute path for the documents would be C:\\Sample\\Documents.  \n",
    "The relative path from C:\\Sample\\Index to C:\\Sample\\Documents would be ..\\Documents."
   ]
  },
  {
   "cell_type": "code",
   "execution_count": null,
   "id": "da6bdda9",
   "metadata": {},
   "outputs": [],
   "source": [
    "ANSWER 2:\n",
    "    \n",
    "Absolute path will begin at the home directory of your computer and will end with the file or directory that you wish to \n",
    "access.\n",
    "Absolute paths ensure that Python can find the exact file on your computer.\n",
    "\n",
    "For example,\n",
    "C:\\Sample\\Documents"
   ]
  },
  {
   "cell_type": "code",
   "execution_count": 4,
   "id": "b5674f6e",
   "metadata": {},
   "outputs": [
    {
     "data": {
      "text/plain": [
       "'C:\\\\Users\\\\Nikita'"
      ]
     },
     "execution_count": 4,
     "metadata": {},
     "output_type": "execute_result"
    }
   ],
   "source": [
    "#ANSWER 3:\n",
    "    \n",
    "import os\n",
    "os.getcwd()"
   ]
  },
  {
   "cell_type": "code",
   "execution_count": 7,
   "id": "f5a209d1",
   "metadata": {},
   "outputs": [
    {
     "name": "stdout",
     "output_type": "stream",
     "text": [
      "directory changed\n"
     ]
    }
   ],
   "source": [
    "#ANSWER 3:\n",
    "\n",
    "os.chdir(r\"C:\\Users\\Nikita\")\n",
    "print(\"directory changed\")"
   ]
  },
  {
   "cell_type": "code",
   "execution_count": null,
   "id": "ea146e8a",
   "metadata": {},
   "outputs": [],
   "source": [
    "ANSWER 4:\n",
    "    \n",
    ". Represents the Current Directory Whereas .. Represents the Parent Directory of the Current Directory"
   ]
  },
  {
   "cell_type": "code",
   "execution_count": null,
   "id": "9a9933b0",
   "metadata": {},
   "outputs": [],
   "source": [
    "ANSWER 5:\n",
    "    \n",
    "C:\\bacon\\eggs\\spam.txt, which part is the \n",
    "dir name= C:\\bacon\\eggs\\spam\n",
    "base name= spam.txt"
   ]
  },
  {
   "cell_type": "code",
   "execution_count": null,
   "id": "1b188122",
   "metadata": {},
   "outputs": [],
   "source": [
    "ANSWER 6:\n",
    "    \n",
    "‘r’ – Read Mode: This is the default mode for open(). The file is opened and a pointer is positioned at the beginning of \n",
    "      the file’s content.\n",
    "        \n",
    "‘w’ – Write Mode: Using this mode will overwrite any existing content in a file. If the given file does not exist, a new \n",
    "      one will be created.\n",
    "        \n",
    "‘r+’ – Read/Write Mode: Use this mode if you need to simultaneously read and write to a file.\n",
    "    \n",
    "‘a’ –  Append Mode: With this mode the user can append the data without overwriting any already existing data in the file.\n",
    "    \n",
    "‘a+’ – Append and Read Mode: In this mode you can read and append the data without overwriting the original file.\n",
    "    \n",
    "‘x’ –  Exclusive Creating Mode: This mode is for the sole purpose of creating new files. Use this mode if you know the file \n",
    "       to be written doesn’t exist beforehand."
   ]
  },
  {
   "cell_type": "code",
   "execution_count": null,
   "id": "b08452fe",
   "metadata": {},
   "outputs": [],
   "source": [
    "ANSWER 7:\n",
    "    \n",
    "Using this mode will overwrite any existing content in a file. If the given file does not exist, a new \n",
    "one will be created."
   ]
  },
  {
   "cell_type": "code",
   "execution_count": null,
   "id": "afb0bbd4",
   "metadata": {},
   "outputs": [],
   "source": [
    "ANSWER 8:\n",
    "    \n",
    "read() will read the whole file at once and then print out the first characters that take up as many bytes as you specify \n",
    "in the parenthesis.The read() would treat each character in the file separately, meaning that the iteration would happen \n",
    "for every character.\n",
    "\n",
    "readline() that will read and print out only the first characters that take up as many bytes as you specify in the \n",
    "parenthesis. You may want to use readline() when you're reading files that are too big for your RAM.\n",
    "The readline() function only reads a single line of the file. This means that if the first line of the file were three\n",
    "lines long, the readline() function would only parse (or iterate/operate) on the first line of the file."
   ]
  },
  {
   "cell_type": "code",
   "execution_count": null,
   "id": "d766ed09",
   "metadata": {},
   "outputs": [],
   "source": [
    "ANSWER 9:\n",
    "    \n",
    "A shelf value resembles a dictionary value; it has keys and values, along with keys() and values() methods that work \n",
    "similarly to the dictionary methods of the same names."
   ]
  }
 ],
 "metadata": {
  "kernelspec": {
   "display_name": "Python 3 (ipykernel)",
   "language": "python",
   "name": "python3"
  },
  "language_info": {
   "codemirror_mode": {
    "name": "ipython",
    "version": 3
   },
   "file_extension": ".py",
   "mimetype": "text/x-python",
   "name": "python",
   "nbconvert_exporter": "python",
   "pygments_lexer": "ipython3",
   "version": "3.9.13"
  }
 },
 "nbformat": 4,
 "nbformat_minor": 5
}
