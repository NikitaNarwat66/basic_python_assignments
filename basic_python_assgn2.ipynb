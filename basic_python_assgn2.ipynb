{
 "cells": [
  {
   "cell_type": "markdown",
   "id": "1e5cc619",
   "metadata": {},
   "source": [
    "# ASSIGNMENT 2"
   ]
  },
  {
   "cell_type": "code",
   "execution_count": null,
   "id": "30664f3e",
   "metadata": {},
   "outputs": [],
   "source": [
    "ANSWER1:\n",
    "    \n",
    "Two values of boolean datatype are:\n",
    "1) True\n",
    "2) False\n",
    "\n",
    "We write True with T as capital and rest in lowercase and similarly we can write False as F capital and rest as lowercase."
   ]
  },
  {
   "cell_type": "code",
   "execution_count": null,
   "id": "69f83a32",
   "metadata": {},
   "outputs": [],
   "source": [
    "ANSWER2:\n",
    "    \n",
    "Three types of Boolean operators are:\n",
    "    \n",
    "1) and: It requires both terms to be True.\n",
    "2) or: It requires either of the terms to be True.\n",
    "3) not: It eliminates items that contain the specified term."
   ]
  },
  {
   "cell_type": "code",
   "execution_count": null,
   "id": "31e2d398",
   "metadata": {},
   "outputs": [],
   "source": [
    "ANSWER3:\n",
    "Boolean operators truth table\n",
    "\n",
    "1) True and False = False\n",
    "2) True and True = True\n",
    "3) False and False = False\n",
    "4) False and True = False\n",
    "\n",
    "5) True or False = True\n",
    "6) True or True = True\n",
    "7) False or False = False\n",
    "8) False or True = True\n",
    "\n",
    "9) not False = True\n",
    "10) not True = False\n"
   ]
  },
  {
   "cell_type": "code",
   "execution_count": null,
   "id": "bb5835ea",
   "metadata": {},
   "outputs": [],
   "source": [
    "ANSWER4:\n",
    "    \n",
    "(5 > 4) and (3 == 5) : False\n",
    "not (5 > 4) : False\n",
    "(5 > 4) or (3 == 5) : True\n",
    "not ((5 > 4) or (3 == 5)) : False\n",
    "(True and True) and (True == False) : False\n",
    "(not False) or (not True) : True"
   ]
  },
  {
   "cell_type": "code",
   "execution_count": null,
   "id": "42e13a9e",
   "metadata": {},
   "outputs": [],
   "source": [
    "ANSWER5:\n",
    "    \n",
    "Six comparison operators are:\n",
    "1) == : It is for equals to.\n",
    "    example: 6==6\n",
    "2) != : It is for not equals to.\n",
    "    example: 5!=6\n",
    "3) < : It is for less than.\n",
    "    example: 6<7\n",
    "4) > : It is for greater than.\n",
    "    example: 9>8\n",
    "5) <= : It is for less than or equal to.\n",
    "    example: 8<=9\n",
    "6) >= : It is for greater than or equal to.\n",
    "    example: 10>=9"
   ]
  },
  {
   "cell_type": "code",
   "execution_count": null,
   "id": "88d1b26d",
   "metadata": {},
   "outputs": [],
   "source": [
    "ANSWER6:\n",
    "    \n",
    "== is the equal to operator and it is used to compare two values and evaluates to a boolean. It returns True if the values \n",
    "are equal and returns False if the values are not equal.\n",
    "\n",
    "= is the assignment operator that stores a value for a variable.\n",
    "\n",
    "Take this code for instance to know when to use one:\n",
    "    \n",
    "a=1\n",
    "if a==0:\n",
    "    print(\"a is zero\")\n",
    "else:\n",
    "    print(\"a is not zero\")\n",
    "    \n",
    "In this code we used assignment operator to set 'a' to 1 and in the if expression a is compared to 0 using equality \n",
    "operator."
   ]
  },
  {
   "cell_type": "code",
   "execution_count": null,
   "id": "6806e5b8",
   "metadata": {},
   "outputs": [],
   "source": [
    "ANSWER7:\n",
    "    \n",
    "The three blocks are everything inside the if statement and the lines print('bacon') and print('ham').\n",
    "\n",
    "print('eggs')\n",
    "if spam > 5:\n",
    "    print('bacon')\n",
    "else:\n",
    "    print(\"ham\")"
   ]
  },
  {
   "cell_type": "code",
   "execution_count": 16,
   "id": "f417552c",
   "metadata": {},
   "outputs": [
    {
     "name": "stdout",
     "output_type": "stream",
     "text": [
      "enter value for spam: 2\n",
      "howdy\n"
     ]
    }
   ],
   "source": [
    "#ANSWER8:\n",
    "    \n",
    "spam=int(input(\"enter value for spam: \"))   \n",
    "if spam==1:\n",
    "    print(\"hello\")\n",
    "elif spam == 2:\n",
    "    print(\"howdy\")\n",
    "else:\n",
    "    print(\"greetings\")"
   ]
  },
  {
   "cell_type": "code",
   "execution_count": null,
   "id": "415cb069",
   "metadata": {},
   "outputs": [],
   "source": [
    "ANSWER9:\n",
    "    \n",
    "We will press ctrl + c to stop the program stuck in infinite loop."
   ]
  },
  {
   "cell_type": "code",
   "execution_count": null,
   "id": "45217daf",
   "metadata": {},
   "outputs": [],
   "source": [
    "ANSWER10:\n",
    "    \n",
    "The break statement terminates the whole iteration of the loop.The break statement will move the execution outside and \n",
    "just after a loop.\n",
    "\n",
    "while (expr):\n",
    "    <statement>\n",
    "    <statement>\n",
    "break                 ____\n",
    "    <statement>           |\n",
    "    <statement>           |\n",
    "                   <------| \n",
    "        \n",
    "The continue statement will move the execution to the start of the loop.It skips the current iteration.\n",
    "\n",
    "\n",
    "while (expr):      <----|\n",
    "    <statement>         |\n",
    "    <statement>         |\n",
    "continue         _______|   \n",
    "    <statement>\n",
    "    <statement>"
   ]
  },
  {
   "cell_type": "code",
   "execution_count": null,
   "id": "b2e5db16",
   "metadata": {},
   "outputs": [],
   "source": [
    "ANSWER11:\n",
    "    \n",
    "range(10): It calls ranges from 0 to 10 but not including 10.\n",
    "range(0,10): It explicitly tells loop to start at 0.\n",
    "range(0,10,1): It explicitly tells loop to start at 0 and to increase the variable by 1 on each iteration."
   ]
  },
  {
   "cell_type": "code",
   "execution_count": 21,
   "id": "b2f63128",
   "metadata": {},
   "outputs": [
    {
     "name": "stdout",
     "output_type": "stream",
     "text": [
      "this is using for loop\n",
      "1\n",
      "2\n",
      "3\n",
      "4\n",
      "5\n",
      "6\n",
      "7\n",
      "8\n",
      "9\n",
      "10\n",
      "this is using while loop\n",
      "1\n",
      "2\n",
      "3\n",
      "4\n",
      "5\n",
      "6\n",
      "7\n",
      "8\n",
      "9\n",
      "10\n"
     ]
    }
   ],
   "source": [
    "#ANSWER12:\n",
    "\n",
    "print(\"this is using for loop\")\n",
    "for i in range(1,11):\n",
    "    print(i)\n",
    "    \n",
    "print(\"this is using while loop\")   \n",
    "i=1\n",
    "while i<=10:\n",
    "    print(i)\n",
    "    i+=1"
   ]
  },
  {
   "cell_type": "code",
   "execution_count": null,
   "id": "284ddd05",
   "metadata": {},
   "outputs": [],
   "source": [
    "ANSWER13:\n",
    "    \n",
    "spam.bacon()"
   ]
  }
 ],
 "metadata": {
  "kernelspec": {
   "display_name": "Python 3 (ipykernel)",
   "language": "python",
   "name": "python3"
  },
  "language_info": {
   "codemirror_mode": {
    "name": "ipython",
    "version": 3
   },
   "file_extension": ".py",
   "mimetype": "text/x-python",
   "name": "python",
   "nbconvert_exporter": "python",
   "pygments_lexer": "ipython3",
   "version": "3.9.13"
  }
 },
 "nbformat": 4,
 "nbformat_minor": 5
}
