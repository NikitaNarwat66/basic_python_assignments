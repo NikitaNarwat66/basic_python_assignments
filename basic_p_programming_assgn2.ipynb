{
 "cells": [
  {
   "cell_type": "markdown",
   "id": "67828b2d",
   "metadata": {},
   "source": [
    "# PROGRAMMING ASSIGNMENT 2"
   ]
  },
  {
   "cell_type": "code",
   "execution_count": 3,
   "id": "695cafc9",
   "metadata": {},
   "outputs": [
    {
     "name": "stdout",
     "output_type": "stream",
     "text": [
      "enter the value in kilometers: 3\n",
      "value in kms :  3.0\n",
      "value in miles :  1.8641135699999998\n"
     ]
    }
   ],
   "source": [
    "#ANSWER 1:\n",
    "\n",
    "a=float(input(\"enter the value in kilometers: \"))\n",
    "b=a * 0.62137119\n",
    "print(\"value in kms : \",a)\n",
    "print(\"value in miles : \",b)"
   ]
  },
  {
   "cell_type": "code",
   "execution_count": 7,
   "id": "bc5f32a2",
   "metadata": {},
   "outputs": [
    {
     "name": "stdout",
     "output_type": "stream",
     "text": [
      "enter the temp in celcius: 373\n",
      "temp in F is:  703.4\n"
     ]
    }
   ],
   "source": [
    "#ANSWER 2:\n",
    "\n",
    "a=float(input(\"enter the temp in celcius: \"))\n",
    "b= a * 9/5 + 32\n",
    "print(\"temp in F is: \", b)"
   ]
  },
  {
   "cell_type": "code",
   "execution_count": 10,
   "id": "c571619c",
   "metadata": {},
   "outputs": [
    {
     "name": "stdout",
     "output_type": "stream",
     "text": [
      "enter the year: 2001\n",
      "enter the month: 09\n",
      "   September 2001\n",
      "Mo Tu We Th Fr Sa Su\n",
      "                1  2\n",
      " 3  4  5  6  7  8  9\n",
      "10 11 12 13 14 15 16\n",
      "17 18 19 20 21 22 23\n",
      "24 25 26 27 28 29 30\n",
      "\n"
     ]
    }
   ],
   "source": [
    "#ANSWER 3:\n",
    "\n",
    "import calendar\n",
    "\n",
    "yy=int(input(\"enter the year: \"))\n",
    "mm=int(input(\"enter the month: \"))\n",
    "\n",
    "print(calendar.month(yy,mm))"
   ]
  },
  {
   "cell_type": "code",
   "execution_count": 11,
   "id": "4e3ebf40",
   "metadata": {},
   "outputs": [
    {
     "name": "stdout",
     "output_type": "stream",
     "text": [
      "enter a: 5\n",
      "enter b: 7\n",
      "enter c: 9\n",
      "The solution are (-0.7-1.1445523142259597j) and (-0.7+1.1445523142259597j)\n"
     ]
    }
   ],
   "source": [
    "#ANSWER 4:\n",
    "\n",
    "import cmath\n",
    "\n",
    "a = int(input(\"enter a: \"))\n",
    "b = int(input(\"enter b: \"))\n",
    "c = int(input(\"enter c: \"))\n",
    "\n",
    "\n",
    "d = (b**2) - (4*a*c)\n",
    "\n",
    "\n",
    "sol1 = (-b-cmath.sqrt(d))/(2*a)\n",
    "sol2 = (-b+cmath.sqrt(d))/(2*a)\n",
    "\n",
    "print('The solution are {0} and {1}'.format(sol1,sol2))"
   ]
  },
  {
   "cell_type": "code",
   "execution_count": 15,
   "id": "33888f6f",
   "metadata": {},
   "outputs": [
    {
     "name": "stdout",
     "output_type": "stream",
     "text": [
      "enter variable 1: 98\n",
      "enter variable 2: jk\n",
      "after swapping:  jk 98\n"
     ]
    }
   ],
   "source": [
    "#ANSWER 5:\n",
    "\n",
    "a=input(\"enter variable 1: \")\n",
    "b=input(\"enter variable 2: \")\n",
    "a,b=b,a\n",
    "print(\"after swapping: \",a,b)"
   ]
  }
 ],
 "metadata": {
  "kernelspec": {
   "display_name": "Python 3 (ipykernel)",
   "language": "python",
   "name": "python3"
  },
  "language_info": {
   "codemirror_mode": {
    "name": "ipython",
    "version": 3
   },
   "file_extension": ".py",
   "mimetype": "text/x-python",
   "name": "python",
   "nbconvert_exporter": "python",
   "pygments_lexer": "ipython3",
   "version": "3.9.13"
  }
 },
 "nbformat": 4,
 "nbformat_minor": 5
}
