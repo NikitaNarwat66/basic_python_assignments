{
 "cells": [
  {
   "cell_type": "markdown",
   "id": "9870e5c7",
   "metadata": {},
   "source": [
    "# ASSIGNMENT 5"
   ]
  },
  {
   "cell_type": "code",
   "execution_count": null,
   "id": "43e3355d",
   "metadata": {},
   "outputs": [],
   "source": [
    "ANSWER1:\n",
    "    \n",
    "Empty dictionary code will look like:\n",
    "    \n",
    "a={}\n",
    "two curly brackets"
   ]
  },
  {
   "cell_type": "code",
   "execution_count": 3,
   "id": "a2ad6ed0",
   "metadata": {},
   "outputs": [
    {
     "data": {
      "text/plain": [
       "{'foo': 42}"
      ]
     },
     "execution_count": 3,
     "metadata": {},
     "output_type": "execute_result"
    }
   ],
   "source": [
    "#ANSWER2:\n",
    "    \n",
    "a={'foo':42}\n",
    "a"
   ]
  },
  {
   "cell_type": "code",
   "execution_count": null,
   "id": "6ea5a2f1",
   "metadata": {},
   "outputs": [],
   "source": [
    "ANSWER3:\n",
    "    \n",
    "The key difference between a list and dictionary is that the items stored in a dictionary are unordered, while the items \n",
    "in a list are ordered."
   ]
  },
  {
   "cell_type": "code",
   "execution_count": 5,
   "id": "b10e0c89",
   "metadata": {},
   "outputs": [
    {
     "ename": "KeyError",
     "evalue": "'foo'",
     "output_type": "error",
     "traceback": [
      "\u001b[1;31m---------------------------------------------------------------------------\u001b[0m",
      "\u001b[1;31mKeyError\u001b[0m                                  Traceback (most recent call last)",
      "\u001b[1;32m~\\AppData\\Local\\Temp\\ipykernel_11072\\2917875435.py\u001b[0m in \u001b[0;36m<module>\u001b[1;34m\u001b[0m\n\u001b[0;32m      2\u001b[0m \u001b[1;33m\u001b[0m\u001b[0m\n\u001b[0;32m      3\u001b[0m \u001b[0mspam\u001b[0m\u001b[1;33m=\u001b[0m\u001b[1;33m{\u001b[0m\u001b[1;34m'bar'\u001b[0m\u001b[1;33m:\u001b[0m\u001b[1;36m100\u001b[0m\u001b[1;33m}\u001b[0m\u001b[1;33m\u001b[0m\u001b[1;33m\u001b[0m\u001b[0m\n\u001b[1;32m----> 4\u001b[1;33m \u001b[0mspam\u001b[0m\u001b[1;33m[\u001b[0m\u001b[1;34m'foo'\u001b[0m\u001b[1;33m]\u001b[0m\u001b[1;33m\u001b[0m\u001b[1;33m\u001b[0m\u001b[0m\n\u001b[0m",
      "\u001b[1;31mKeyError\u001b[0m: 'foo'"
     ]
    }
   ],
   "source": [
    "#ANSWER4:\n",
    "    \n",
    "spam={'bar':100}\n",
    "spam['foo']\n",
    "\n",
    "# you will get a key error."
   ]
  },
  {
   "cell_type": "code",
   "execution_count": null,
   "id": "32eb68e8",
   "metadata": {},
   "outputs": [],
   "source": [
    "ANSWER5:\n",
    "    \n",
    "There is no difference.The in the operator checks whether a value exists as a key in the dictionary."
   ]
  },
  {
   "cell_type": "code",
   "execution_count": null,
   "id": "329be5f5",
   "metadata": {},
   "outputs": [],
   "source": [
    "ANSWER6:\n",
    "    \n",
    "'cat' in spam checks whether there is a 'cat' key in the dictionary, while 'cat' in spam.values() checks whether there is a value 'cat' for one of the keys in spam."
   ]
  },
  {
   "cell_type": "code",
   "execution_count": null,
   "id": "8c7024fb",
   "metadata": {},
   "outputs": [],
   "source": [
    "ANSWER7:\n",
    "    \n",
    "spam.setdefault('color', 'black')"
   ]
  },
  {
   "cell_type": "code",
   "execution_count": null,
   "id": "63def5f7",
   "metadata": {},
   "outputs": [],
   "source": [
    "ANSWER8:\n",
    "    \n",
    "pprint.pprint()"
   ]
  }
 ],
 "metadata": {
  "kernelspec": {
   "display_name": "Python 3 (ipykernel)",
   "language": "python",
   "name": "python3"
  },
  "language_info": {
   "codemirror_mode": {
    "name": "ipython",
    "version": 3
   },
   "file_extension": ".py",
   "mimetype": "text/x-python",
   "name": "python",
   "nbconvert_exporter": "python",
   "pygments_lexer": "ipython3",
   "version": "3.9.13"
  }
 },
 "nbformat": 4,
 "nbformat_minor": 5
}
