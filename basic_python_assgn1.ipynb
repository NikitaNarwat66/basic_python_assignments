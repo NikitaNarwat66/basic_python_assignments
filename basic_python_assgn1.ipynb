{
 "cells": [
  {
   "cell_type": "markdown",
   "id": "3d532466",
   "metadata": {},
   "source": [
    "# ASSIGNMENT 1"
   ]
  },
  {
   "cell_type": "code",
   "execution_count": null,
   "id": "2a6f0dd8",
   "metadata": {},
   "outputs": [],
   "source": [
    "ANSWER1:\n",
    "\n",
    "(A)= * = Expression\n",
    "(B)= 'hello'= value\n",
    "(C)= -87.8 = value\n",
    "(D)= - = Expression\n",
    "(E)= / = Expression\n",
    "(F)= + = Expression\n",
    "(G)= 6 = value"
   ]
  },
  {
   "cell_type": "code",
   "execution_count": null,
   "id": "21ed93a6",
   "metadata": {},
   "outputs": [],
   "source": [
    "ANSWER2:\n",
    "    \n",
    "Variable = Variables are symbols that you can use to store data in a program. You can think of them as an empty box \n",
    "           that you fill with some data or value. \n",
    "    \n",
    "String =   A string is a sequence of one or more characters (letters, numbers, symbols) that can be either a constant \n",
    "           or a variable. Strings are data, so we can use them to fill up a variable."
   ]
  },
  {
   "cell_type": "code",
   "execution_count": null,
   "id": "0622d798",
   "metadata": {},
   "outputs": [],
   "source": [
    "ANSWER3:\n",
    "    \n",
    "Three different data types are:\n",
    "\n",
    "1) NUMBERS:\n",
    "It stores numeric values.\n",
    "  a) float: It stores floating point numbers as 3.66, 1.2, etc.\n",
    "  b) integer: It stores integer values as 1, 2, -40, 16, etc.\n",
    "  c) complex: It stores complex numbers as 1+3j , 4+9j, etc.\n",
    "    \n",
    "2) SEQUENCE TYPE:\n",
    "    a) strings:  A string is a sequence of one or more characters (letters, numbers, symbols) that can be either a constant \n",
    "                 or a variable. example: \"this is my first assignment\"\n",
    "    b) list:    A list can contain different data types enclosed in square brackets and they are mutable. \n",
    "                example: [1,2,4.5, \"sdfg\",3+4j]   \n",
    "    c) tuple:   A tuple is similar to lists but the difference is tuples are immutable and are enclosed in circular braces.\n",
    "                example: (1,2,\"asdf\",8.5)\n",
    "    \n",
    "3) BOOLEAN:\n",
    "    Boolean type provides two built-in values, True and False. These values are used to determine the given statement \n",
    "    true or false. It denotes by the class bool. True can be represented by any non-zero value or 'True' whereas false can \n",
    "    be represented by the 0 or 'False'. "
   ]
  },
  {
   "cell_type": "code",
   "execution_count": null,
   "id": "9bb6f8aa",
   "metadata": {},
   "outputs": [],
   "source": [
    "ANSWER4:\n",
    "    \n",
    "An expression is a combination of operators and operands that is interpreted to produce some other value. An expression is \n",
    "evaluated as per the precedence of its operators.\n",
    "All expressions evaluate (that is, reduce) to a single value.\n",
    "For example:\n",
    "    + is for addition\n",
    "    - is for subtraction\n",
    "    / is for division\n",
    "    * is for multiplication\n",
    "    // is for quotient.\n",
    "    % is for remainder\n",
    "    ** is for exponentiation"
   ]
  },
  {
   "cell_type": "code",
   "execution_count": null,
   "id": "a2194fc3",
   "metadata": {},
   "outputs": [],
   "source": [
    "ANSWER5:\n",
    "\n",
    "An expression evaluates to a single value. A statement does not.\n",
    "An expression is something, while a statement does something. An expression is a statement as well, but it must have \n",
    "a return."
   ]
  },
  {
   "cell_type": "code",
   "execution_count": null,
   "id": "b5dc7ce4",
   "metadata": {},
   "outputs": [],
   "source": [
    "ANSWER6:\n",
    "\n",
    "bacon = 22\n",
    "bacon + 1\n",
    "The bacon variable is set to 22. The bacon + 1 expression does not reassign the value in bacon (that would need an \n",
    "assignment statement: bacon = bacon + 1)."
   ]
  },
  {
   "cell_type": "code",
   "execution_count": null,
   "id": "bef79bf5",
   "metadata": {},
   "outputs": [],
   "source": [
    "ANSWER7:\n",
    "    \n",
    "Both the expressions will have same value for the string i.e. spamspamspam"
   ]
  },
  {
   "cell_type": "code",
   "execution_count": null,
   "id": "fcce36c3",
   "metadata": {},
   "outputs": [],
   "source": [
    "ANSWER8:\n",
    "    \n",
    "Eggs is a valid variable name whereas 100 is not because a variable name cannot begin with a number."
   ]
  },
  {
   "cell_type": "code",
   "execution_count": null,
   "id": "b6c83fee",
   "metadata": {},
   "outputs": [],
   "source": [
    "ANSWER9:\n",
    "    \n",
    "The int(), float(), and str() functions will evaluate to the integer, floating-point number, and string versions of the \n",
    "value passed to them."
   ]
  },
  {
   "cell_type": "code",
   "execution_count": null,
   "id": "61b6309b",
   "metadata": {},
   "outputs": [],
   "source": [
    "ANSWER10:\n",
    "\n",
    "This expression causes an error because 99 is an integer and only strings can be concatenated to other strings with \n",
    "the + operator.\n",
    "\n",
    "The correct way to wrtie it is by converting  integer to string.\n",
    "'I have eaten ' + str(99) + ' burritos'"
   ]
  }
 ],
 "metadata": {
  "kernelspec": {
   "display_name": "Python 3 (ipykernel)",
   "language": "python",
   "name": "python3"
  },
  "language_info": {
   "codemirror_mode": {
    "name": "ipython",
    "version": 3
   },
   "file_extension": ".py",
   "mimetype": "text/x-python",
   "name": "python",
   "nbconvert_exporter": "python",
   "pygments_lexer": "ipython3",
   "version": "3.9.13"
  }
 },
 "nbformat": 4,
 "nbformat_minor": 5
}
