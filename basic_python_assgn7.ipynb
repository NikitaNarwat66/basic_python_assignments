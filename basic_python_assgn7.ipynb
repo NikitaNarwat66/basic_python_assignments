{
 "cells": [
  {
   "cell_type": "markdown",
   "id": "b26fac20",
   "metadata": {},
   "source": [
    "# ASSIGNMENT 7"
   ]
  },
  {
   "cell_type": "code",
   "execution_count": null,
   "id": "3e606b34",
   "metadata": {},
   "outputs": [],
   "source": [
    "ANSWER1:\n",
    "    \n",
    "re.compile() function returns the regex objects"
   ]
  },
  {
   "cell_type": "code",
   "execution_count": 11,
   "id": "f69f5c13",
   "metadata": {},
   "outputs": [
    {
     "name": "stdout",
     "output_type": "stream",
     "text": [
      "This is the result before using raw strings: \n",
      "\n",
      "Hello\tworld!!\n",
      "Hi\n",
      "\n",
      "This is the result after using raw strings: \n",
      "\n",
      "Hello\\tworld!!\\nHi\n"
     ]
    }
   ],
   "source": [
    "# ANSWER2:\n",
    "    \n",
    "# Raw strings are used so that backslashes do not have to be escaped.Raw Strings are string literals prefixed with a \n",
    "# \"r\" or \"R\".\n",
    "# example:\n",
    "    \n",
    "s = \"Hello\\tworld!!\\nHi\\n\"\n",
    "print(\"This is the result before using raw strings: \\n\")\n",
    "print(s)\n",
    "\n",
    "s = r\"Hello\\tworld!!\\nHi\"\n",
    "print(\"This is the result after using raw strings: \\n\")\n",
    "print(s)"
   ]
  },
  {
   "cell_type": "code",
   "execution_count": 18,
   "id": "9ed5f3b9",
   "metadata": {},
   "outputs": [
    {
     "name": "stdout",
     "output_type": "stream",
     "text": [
      "<re.Match object; span=(12, 22), match='assignment'>\n"
     ]
    }
   ],
   "source": [
    "# ANSWER3:\n",
    "    \n",
    "# The search() function searches the string for a match, and returns a Match object if there is a match.If there is more \n",
    "# than one match, only the first occurrence of the match will be returned\n",
    "# example:\n",
    "\n",
    "import re\n",
    "a = \"This is the assignment for ineuron.\"\n",
    "x = re.search(\"assignment\", a)\n",
    "print(x)"
   ]
  },
  {
   "cell_type": "code",
   "execution_count": 20,
   "id": "add5d4c0",
   "metadata": {},
   "outputs": [
    {
     "name": "stdout",
     "output_type": "stream",
     "text": [
      "assignment\n"
     ]
    }
   ],
   "source": [
    "# ANSWER4:\n",
    "    \n",
    "# The group() method returns the actual strings that match the pattern.\n",
    "# example:\n",
    "    \n",
    "import re\n",
    "\n",
    "a = \"This is the assignment for ineuron.\"\n",
    "x = re.search(r\"\\ba\\w+\", a)\n",
    "print(x.group())\n"
   ]
  },
  {
   "cell_type": "code",
   "execution_count": null,
   "id": "4bd6ab27",
   "metadata": {},
   "outputs": [],
   "source": [
    "ANSWER5:\n",
    "    \n",
    "Group 0 = the entire match\n",
    "group 1 = the first set of parentheses \n",
    "group 2 = the second set of parentheses."
   ]
  },
  {
   "cell_type": "code",
   "execution_count": null,
   "id": "ef82cb66",
   "metadata": {},
   "outputs": [],
   "source": [
    "ANSWER6:\n",
    "    \n",
    "Periods and parentheses can be escaped with a backslash: \n",
    "\\., \\(, and \\)."
   ]
  },
  {
   "cell_type": "code",
   "execution_count": null,
   "id": "20c72fb0",
   "metadata": {},
   "outputs": [],
   "source": [
    "ANSWER7:\n",
    "    \n",
    "The findall() method returns a string list or a list of string tuples.\n",
    "If the regex has no groups, a list of strings is returned. \n",
    "If the regex has groups, a list of tuples of strings is returned."
   ]
  },
  {
   "cell_type": "code",
   "execution_count": null,
   "id": "546a585a",
   "metadata": {},
   "outputs": [],
   "source": [
    "ANSWER8:\n",
    "    \n",
    "The | character signifies matching \"either, or\" between two groups."
   ]
  },
  {
   "cell_type": "code",
   "execution_count": null,
   "id": "6db3b8dc",
   "metadata": {},
   "outputs": [],
   "source": [
    "ANSWER9:\n",
    "    \n",
    "The ? character mean:\n",
    "1) \"match zero or one of the preceding group\" \n",
    "2) It can be used to signify nongreedy matching."
   ]
  },
  {
   "cell_type": "code",
   "execution_count": null,
   "id": "8fd7a029",
   "metadata": {},
   "outputs": [],
   "source": [
    "ANSWER10:\n",
    "    \n",
    "The + matches one or more. \n",
    "The * matches zero or more."
   ]
  },
  {
   "cell_type": "code",
   "execution_count": null,
   "id": "81b67490",
   "metadata": {},
   "outputs": [],
   "source": [
    "ANSWER11:\n",
    "    \n",
    "The {4} matches exactly four instances of the preceding group. \n",
    "The {4,5} matches between four and five instances."
   ]
  },
  {
   "cell_type": "code",
   "execution_count": null,
   "id": "690230eb",
   "metadata": {},
   "outputs": [],
   "source": [
    "ANSWER12:\n",
    "    \n",
    "The \\d, \\w, and \\s shorthand character classes match a single digit, word, or space character, respectively."
   ]
  },
  {
   "cell_type": "code",
   "execution_count": null,
   "id": "ba21faaf",
   "metadata": {},
   "outputs": [],
   "source": [
    "ANSWER13:\n",
    "    \n",
    "The \\D, \\W, and \\S shorthand character classes match a single character that is not a digit, word, or space character,\n",
    "respectively."
   ]
  },
  {
   "cell_type": "code",
   "execution_count": null,
   "id": "d1d634f2",
   "metadata": {},
   "outputs": [],
   "source": [
    "ANSWER14:\n",
    "    \n",
    ".*? is non-greedy. \n",
    "A non-greedy quantifier matches as few characters as possible (shortest possible match). \n",
    "\n",
    "For example, the regex 'a+?' will match as few 'a's as possible in your string 'aaaa'. Thus, it matches the first\n",
    "character 'a' and is done with it.\n",
    "\n",
    ".* is greedy approach. \n",
    "A greedy match means that the regex engine (the one which tries to find your pattern in the string) matches as \n",
    "many characters as possible.\n",
    "    \n",
    "For example, the regex 'a+' will match as many 'a's as possible in your string 'aaaa'. Although the substrings \n",
    "'a', 'aa', 'aaa' all match the regex 'a+', it’s not enough for the regex engine. It’s always hungry and tries to \n",
    "match even more.\n"
   ]
  },
  {
   "cell_type": "code",
   "execution_count": null,
   "id": "360cbee4",
   "metadata": {},
   "outputs": [],
   "source": [
    "ANSWER15:\n",
    "    \n",
    "Either [0-9a-z] or [a-z0-9]"
   ]
  },
  {
   "cell_type": "code",
   "execution_count": null,
   "id": "c9a1652a",
   "metadata": {},
   "outputs": [],
   "source": [
    "ANSWER16:\n",
    "    \n",
    "Passing re.I or re.IGNORECASE as the second argument to re.compile() will make the matching case insensitive."
   ]
  },
  {
   "cell_type": "code",
   "execution_count": null,
   "id": "bff7bb7d",
   "metadata": {},
   "outputs": [],
   "source": [
    "ANSWER17:\n",
    "    \n",
    "The . character normally matches any character except the newline character. If re.DOTALL is passed as the second \n",
    "argument to re.compile(), then the dot will also match newline characters."
   ]
  },
  {
   "cell_type": "code",
   "execution_count": 6,
   "id": "37c2e00a",
   "metadata": {},
   "outputs": [
    {
     "data": {
      "text/plain": [
       "'X drummers, X pipers, five rings, X hens'"
      ]
     },
     "execution_count": 6,
     "metadata": {},
     "output_type": "execute_result"
    }
   ],
   "source": [
    "# ANSWER18:\n",
    "\n",
    "import re\n",
    "numRegex = re.compile(r'\\d+')\n",
    "numRegex.sub('X', '11 drummers, 10 pipers, five rings, 4 hens')"
   ]
  },
  {
   "cell_type": "code",
   "execution_count": null,
   "id": "47d18982",
   "metadata": {},
   "outputs": [],
   "source": [
    "ANSWER19:\n",
    "    \n",
    "The re.VERBOSE argument allows you to add whitespace and comments to the string passed to re.compile()."
   ]
  },
  {
   "cell_type": "code",
   "execution_count": null,
   "id": "4e8c98fc",
   "metadata": {},
   "outputs": [],
   "source": [
    "ANSWER20:\n",
    "\n",
    "import re\n",
    "re.compile(r'^\\d{1,3}(,\\d{3})*$') \n",
    "\n",
    "It will create this regex, but other regex strings can produce a similar regular expression."
   ]
  },
  {
   "cell_type": "code",
   "execution_count": null,
   "id": "86d88151",
   "metadata": {},
   "outputs": [],
   "source": [
    "ANSWER21:\n",
    "\n",
    "import re\n",
    "re.compile(r'[A-Z][a-z]*\\sWatanabe')"
   ]
  },
  {
   "cell_type": "code",
   "execution_count": null,
   "id": "29afcb58",
   "metadata": {},
   "outputs": [],
   "source": [
    "ANSWER22:\n",
    "\n",
    "import re\n",
    "re.compile(r'(Alice|Bob|Carol)\\s(eats|pets|throws)\\s(apples|cats|baseballs)\\.', re.IGNORECASE)"
   ]
  }
 ],
 "metadata": {
  "kernelspec": {
   "display_name": "Python 3 (ipykernel)",
   "language": "python",
   "name": "python3"
  },
  "language_info": {
   "codemirror_mode": {
    "name": "ipython",
    "version": 3
   },
   "file_extension": ".py",
   "mimetype": "text/x-python",
   "name": "python",
   "nbconvert_exporter": "python",
   "pygments_lexer": "ipython3",
   "version": "3.9.13"
  }
 },
 "nbformat": 4,
 "nbformat_minor": 5
}
