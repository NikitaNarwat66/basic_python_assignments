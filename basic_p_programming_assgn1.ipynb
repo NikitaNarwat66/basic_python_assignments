{
 "cells": [
  {
   "cell_type": "markdown",
   "id": "bfdf0006",
   "metadata": {},
   "source": [
    "# PROGRAMMING ASSIGNMENT 1"
   ]
  },
  {
   "cell_type": "code",
   "execution_count": 18,
   "id": "78318764",
   "metadata": {},
   "outputs": [
    {
     "name": "stdout",
     "output_type": "stream",
     "text": [
      "Hello Python\n"
     ]
    }
   ],
   "source": [
    "#ANSWER 1:\n",
    "\n",
    "print(\"Hello Python\")"
   ]
  },
  {
   "cell_type": "code",
   "execution_count": 19,
   "id": "88a85303",
   "metadata": {},
   "outputs": [
    {
     "name": "stdout",
     "output_type": "stream",
     "text": [
      "enter a: 4\n",
      "enter b: 7\n",
      "addition:  11.0\n",
      "division:  0.5714285714285714\n"
     ]
    }
   ],
   "source": [
    "#ANSWER 2:\n",
    "\n",
    "a=float(input(\"enter a: \"))\n",
    "b=float(input(\"enter b: \"))\n",
    "print(\"addition: \", a+b)\n",
    "print(\"division: \", a/b)"
   ]
  },
  {
   "cell_type": "code",
   "execution_count": 20,
   "id": "77fc7a51",
   "metadata": {},
   "outputs": [
    {
     "name": "stdout",
     "output_type": "stream",
     "text": [
      "enter height of triangle: 456\n",
      "enter the base of triangle: 7\n",
      "1596.0\n"
     ]
    }
   ],
   "source": [
    "#ANSWER 3:\n",
    "\n",
    "a = float(input(\"enter height of triangle: \"))\n",
    "b = float(input(\"enter the base of triangle: \"))\n",
    "area = 0.5 * a * b\n",
    "print(area)"
   ]
  },
  {
   "cell_type": "code",
   "execution_count": 21,
   "id": "c5e45a88",
   "metadata": {},
   "outputs": [
    {
     "name": "stdout",
     "output_type": "stream",
     "text": [
      "enter variable 1: 356\n",
      "enter variable 2: SDRFTGHghjj\n",
      "after swapping:  SDRFTGHghjj 356\n"
     ]
    }
   ],
   "source": [
    "#ANSWER 4:\n",
    "\n",
    "a=input(\"enter variable 1: \")\n",
    "b=input(\"enter variable 2: \")\n",
    "a,b=b,a\n",
    "print(\"after swapping: \", a,b)"
   ]
  },
  {
   "cell_type": "code",
   "execution_count": 25,
   "id": "a22e23ba",
   "metadata": {},
   "outputs": [
    {
     "name": "stdout",
     "output_type": "stream",
     "text": [
      "enter lower range: 5\n",
      "enter upper range: 50\n"
     ]
    },
    {
     "data": {
      "text/plain": [
       "47"
      ]
     },
     "execution_count": 25,
     "metadata": {},
     "output_type": "execute_result"
    }
   ],
   "source": [
    "#ANSWER 5:\n",
    "\n",
    "import random as r\n",
    "a=float(input(\"enter lower range: \"))\n",
    "b=float(input(\"enter upper range: \"))\n",
    "r.randint(a,b)"
   ]
  }
 ],
 "metadata": {
  "kernelspec": {
   "display_name": "Python 3 (ipykernel)",
   "language": "python",
   "name": "python3"
  },
  "language_info": {
   "codemirror_mode": {
    "name": "ipython",
    "version": 3
   },
   "file_extension": ".py",
   "mimetype": "text/x-python",
   "name": "python",
   "nbconvert_exporter": "python",
   "pygments_lexer": "ipython3",
   "version": "3.9.13"
  }
 },
 "nbformat": 4,
 "nbformat_minor": 5
}
