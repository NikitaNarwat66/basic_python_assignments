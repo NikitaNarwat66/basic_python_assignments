{
 "cells": [
  {
   "cell_type": "code",
   "execution_count": null,
   "id": "875af267",
   "metadata": {},
   "outputs": [],
   "source": [
    "ANSWER1:\n",
    "    \n",
    "Functions reduce the need for duplicate code. This makes programs shorter, easier to read, and easier to update."
   ]
  },
  {
   "cell_type": "code",
   "execution_count": null,
   "id": "a5a34485",
   "metadata": {},
   "outputs": [],
   "source": [
    "ANSWER2:\n",
    "    \n",
    "The code in the function runs when it is called not when it is defined."
   ]
  },
  {
   "cell_type": "code",
   "execution_count": null,
   "id": "bc8a5add",
   "metadata": {},
   "outputs": [],
   "source": [
    "ANSWER3:\n",
    "    \n",
    "def statement creates a function."
   ]
  },
  {
   "cell_type": "code",
   "execution_count": null,
   "id": "97a75ad5",
   "metadata": {},
   "outputs": [],
   "source": [
    "ANSWER4:\n",
    "    \n",
    "A function consists of the def statement and the code in its def clause.\n",
    "Example:\n",
    "def add(a,b):\n",
    "    return a+ b\n",
    "\n",
    "A function call is what moves the program execution into the function and the function call evaluated to the functions \n",
    "return value.\n",
    "Example:\n",
    "\n",
    "b = add(5,6)\n",
    "\n",
    "Now b will have the value 11."
   ]
  },
  {
   "cell_type": "code",
   "execution_count": null,
   "id": "75dd0d55",
   "metadata": {},
   "outputs": [],
   "source": [
    "ANSWER5:\n",
    "    \n",
    "There is only one global scope in a python program.\n",
    "\n",
    "A local scope is created whenever a function is called."
   ]
  },
  {
   "cell_type": "code",
   "execution_count": null,
   "id": "0501f8dd",
   "metadata": {},
   "outputs": [],
   "source": [
    "ANSWER6:\n",
    "    \n",
    "when a function returns, the local scope is destroyed, and all the variables in it are forgotten."
   ]
  },
  {
   "cell_type": "code",
   "execution_count": null,
   "id": "052e7c0b",
   "metadata": {},
   "outputs": [],
   "source": [
    "ANSWER7:\n",
    "    \n",
    "A return value is a value that a function call evaluated to.\n",
    "Return value can be used as part of an expression."
   ]
  },
  {
   "cell_type": "code",
   "execution_count": null,
   "id": "54c65eff",
   "metadata": {},
   "outputs": [],
   "source": [
    "ANSWER8:\n",
    "    \n",
    "If there is no return statement for a function , then its return value is None."
   ]
  },
  {
   "cell_type": "code",
   "execution_count": null,
   "id": "fcd451b2",
   "metadata": {},
   "outputs": [],
   "source": [
    "ANSWER9:\n",
    "    \n",
    "By using global statement we can force a variable in a function to refer to global variable."
   ]
  },
  {
   "cell_type": "code",
   "execution_count": null,
   "id": "b193174e",
   "metadata": {},
   "outputs": [],
   "source": [
    "ANSWER10:\n",
    "    \n",
    "Data type of None is NoneType."
   ]
  },
  {
   "cell_type": "code",
   "execution_count": null,
   "id": "743e4808",
   "metadata": {},
   "outputs": [],
   "source": [
    "ANSWER11:\n",
    "    \n",
    "areallyourpetsnamederic statement will import a module named areallyourpetsname."
   ]
  },
  {
   "cell_type": "code",
   "execution_count": null,
   "id": "1467261f",
   "metadata": {},
   "outputs": [],
   "source": [
    "ANSWER12:\n",
    "    \n",
    "We can call it with spam.bacon()"
   ]
  },
  {
   "cell_type": "code",
   "execution_count": null,
   "id": "3c097c82",
   "metadata": {},
   "outputs": [],
   "source": [
    "ANSWER13:\n",
    "    \n",
    "By placing the line of code in try clause which is causing error will prevent a program from crashing."
   ]
  },
  {
   "cell_type": "code",
   "execution_count": null,
   "id": "c11698fc",
   "metadata": {},
   "outputs": [],
   "source": [
    "ANSWER14:\n",
    "    \n",
    "Whenever a line of code is causing error try clause prevents the program from crashing.\n",
    "The except clause contains the code which will get executed if an error happens."
   ]
  }
 ],
 "metadata": {
  "kernelspec": {
   "display_name": "Python 3 (ipykernel)",
   "language": "python",
   "name": "python3"
  },
  "language_info": {
   "codemirror_mode": {
    "name": "ipython",
    "version": 3
   },
   "file_extension": ".py",
   "mimetype": "text/x-python",
   "name": "python",
   "nbconvert_exporter": "python",
   "pygments_lexer": "ipython3",
   "version": "3.9.13"
  }
 },
 "nbformat": 4,
 "nbformat_minor": 5
}
