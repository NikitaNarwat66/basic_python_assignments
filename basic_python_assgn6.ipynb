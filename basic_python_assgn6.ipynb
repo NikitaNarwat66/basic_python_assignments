{
 "cells": [
  {
   "cell_type": "markdown",
   "id": "17fa3a3b",
   "metadata": {},
   "source": [
    "# ASSIGNMENT 6"
   ]
  },
  {
   "cell_type": "code",
   "execution_count": null,
   "id": "048ba84b",
   "metadata": {},
   "outputs": [],
   "source": [
    "ANSWER1:\n",
    "    \n",
    "Escape characters represent characters in string values that would otherwise be difficult or impossible to type into code.\n",
    "An escape sequence contains a backslash (\\) symbol followed by one of the escape sequence characters.Only the character immediately following the backslash is escaped."
   ]
  },
  {
   "cell_type": "code",
   "execution_count": null,
   "id": "493251ae",
   "metadata": {},
   "outputs": [],
   "source": [
    "ANSWER2:\n",
    "    \n",
    "\\n is a newline.When inserted in a string all the characters after the character are added to a new line.\n",
    "\\t is a tab.(which is usually 4 spaces but can easily be 2 or 8 depending on the context)."
   ]
  },
  {
   "cell_type": "code",
   "execution_count": null,
   "id": "63504075",
   "metadata": {},
   "outputs": [],
   "source": [
    "ANSWER3:\n",
    "    \n",
    "The \\\\ escape character will represent a backslash character."
   ]
  },
  {
   "cell_type": "code",
   "execution_count": null,
   "id": "55d7a8f5",
   "metadata": {},
   "outputs": [],
   "source": [
    "ANSWER4:\n",
    "    \n",
    "The single quote in \"Howl's \"is fine because we have used double quotes to mark the beginning and end of the string."
   ]
  },
  {
   "cell_type": "code",
   "execution_count": null,
   "id": "17b24eab",
   "metadata": {},
   "outputs": [],
   "source": [
    "ANSWER5:\n",
    "    \n",
    "Multiline strings allow you to use newlines in strings without the \\n escape character."
   ]
  },
  {
   "cell_type": "code",
   "execution_count": 2,
   "id": "c1a1de4e",
   "metadata": {},
   "outputs": [
    {
     "name": "stdout",
     "output_type": "stream",
     "text": [
      "e\n",
      "Hello\n",
      "Hello\n",
      "lo, world!\n"
     ]
    }
   ],
   "source": [
    "#ANSWER6:\n",
    "print('Hello, world!'[1])\n",
    "print('Hello, world!'[0:5])\n",
    "print('Hello, world!'[:5])\n",
    "print('Hello, world!'[3:] )   \n"
   ]
  },
  {
   "cell_type": "code",
   "execution_count": 3,
   "id": "8afe1eca",
   "metadata": {},
   "outputs": [
    {
     "name": "stdout",
     "output_type": "stream",
     "text": [
      "HELLO\n",
      "True\n",
      "hello\n"
     ]
    }
   ],
   "source": [
    "#ANSWER7:\n",
    "    \n",
    "print('Hello'.upper())\n",
    "print('Hello'.upper().isupper())\n",
    "print('Hello'.upper().lower())"
   ]
  },
  {
   "cell_type": "code",
   "execution_count": 5,
   "id": "a3d7f5a8",
   "metadata": {},
   "outputs": [
    {
     "name": "stdout",
     "output_type": "stream",
     "text": [
      "['Remember,', 'remember,', 'the', 'fifth', 'of', 'November.']\n"
     ]
    },
    {
     "data": {
      "text/plain": [
       "'There-can-be-only-one.'"
      ]
     },
     "execution_count": 5,
     "metadata": {},
     "output_type": "execute_result"
    }
   ],
   "source": [
    "#ANSWER8:\n",
    "    \n",
    "print('Remember, remember, the fifth of November.'.split())\n",
    "\n",
    "'-'.join('There can be only one.'.split())"
   ]
  },
  {
   "cell_type": "code",
   "execution_count": null,
   "id": "03bdfed8",
   "metadata": {},
   "outputs": [],
   "source": [
    "ANSWER9:\n",
    "    \n",
    "rjust(): right-justify\n",
    "ljust(): left-justify\n",
    "center(): centre"
   ]
  },
  {
   "cell_type": "code",
   "execution_count": null,
   "id": "7ffbb5df",
   "metadata": {},
   "outputs": [],
   "source": [
    "ANSWER10:\n",
    "    \n",
    "The lstrip() and rstrip() methods remove whitespace from the left and right ends of a string, respectively."
   ]
  }
 ],
 "metadata": {
  "kernelspec": {
   "display_name": "Python 3 (ipykernel)",
   "language": "python",
   "name": "python3"
  },
  "language_info": {
   "codemirror_mode": {
    "name": "ipython",
    "version": 3
   },
   "file_extension": ".py",
   "mimetype": "text/x-python",
   "name": "python",
   "nbconvert_exporter": "python",
   "pygments_lexer": "ipython3",
   "version": "3.9.13"
  }
 },
 "nbformat": 4,
 "nbformat_minor": 5
}
