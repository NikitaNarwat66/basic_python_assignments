{
 "cells": [
  {
   "cell_type": "markdown",
   "id": "98417112",
   "metadata": {},
   "source": [
    "# ASSIGNMENT 11"
   ]
  },
  {
   "cell_type": "code",
   "execution_count": 10,
   "id": "207ad194",
   "metadata": {},
   "outputs": [
    {
     "name": "stdout",
     "output_type": "stream",
     "text": [
      "enter the number: -8765\n"
     ]
    },
    {
     "ename": "AssertionError",
     "evalue": "number should not be negative",
     "output_type": "error",
     "traceback": [
      "\u001b[1;31m---------------------------------------------------------------------------\u001b[0m",
      "\u001b[1;31mAssertionError\u001b[0m                            Traceback (most recent call last)",
      "\u001b[1;32m~\\AppData\\Local\\Temp\\ipykernel_1016\\2845972914.py\u001b[0m in \u001b[0;36m<module>\u001b[1;34m\u001b[0m\n\u001b[0;32m      2\u001b[0m \u001b[1;33m\u001b[0m\u001b[0m\n\u001b[0;32m      3\u001b[0m \u001b[0mspam\u001b[0m\u001b[1;33m=\u001b[0m\u001b[0mint\u001b[0m\u001b[1;33m(\u001b[0m\u001b[0minput\u001b[0m\u001b[1;33m(\u001b[0m\u001b[1;34m\"enter the number: \"\u001b[0m\u001b[1;33m)\u001b[0m\u001b[1;33m)\u001b[0m\u001b[1;33m\u001b[0m\u001b[1;33m\u001b[0m\u001b[0m\n\u001b[1;32m----> 4\u001b[1;33m \u001b[1;32massert\u001b[0m \u001b[0mspam\u001b[0m\u001b[1;33m>=\u001b[0m\u001b[1;36m0\u001b[0m\u001b[1;33m,\u001b[0m \u001b[1;34m'number should not be negative'\u001b[0m\u001b[1;33m\u001b[0m\u001b[1;33m\u001b[0m\u001b[0m\n\u001b[0m",
      "\u001b[1;31mAssertionError\u001b[0m: number should not be negative"
     ]
    }
   ],
   "source": [
    "#ANSWER 1:\n",
    "    \n",
    "spam=int(input(\"enter the number: \"))\n",
    "assert spam>=0, 'number should not be negative'"
   ]
  },
  {
   "cell_type": "code",
   "execution_count": 8,
   "id": "52b97a3d",
   "metadata": {},
   "outputs": [
    {
     "name": "stdout",
     "output_type": "stream",
     "text": [
      "enter string 1 : apple\n",
      "enter string 2 : APPLE\n"
     ]
    },
    {
     "ename": "AssertionError",
     "evalue": "strings should not be same",
     "output_type": "error",
     "traceback": [
      "\u001b[1;31m---------------------------------------------------------------------------\u001b[0m",
      "\u001b[1;31mAssertionError\u001b[0m                            Traceback (most recent call last)",
      "\u001b[1;32m~\\AppData\\Local\\Temp\\ipykernel_1016\\3882441852.py\u001b[0m in \u001b[0;36m<module>\u001b[1;34m\u001b[0m\n\u001b[0;32m      3\u001b[0m \u001b[0meggs\u001b[0m\u001b[1;33m=\u001b[0m\u001b[0minput\u001b[0m\u001b[1;33m(\u001b[0m\u001b[1;34m\"enter string 1 : \"\u001b[0m\u001b[1;33m)\u001b[0m\u001b[1;33m\u001b[0m\u001b[1;33m\u001b[0m\u001b[0m\n\u001b[0;32m      4\u001b[0m \u001b[0mbacon\u001b[0m\u001b[1;33m=\u001b[0m\u001b[0minput\u001b[0m\u001b[1;33m(\u001b[0m\u001b[1;34m\"enter string 2 : \"\u001b[0m\u001b[1;33m)\u001b[0m\u001b[1;33m\u001b[0m\u001b[1;33m\u001b[0m\u001b[0m\n\u001b[1;32m----> 5\u001b[1;33m \u001b[1;32massert\u001b[0m \u001b[1;32mnot\u001b[0m \u001b[1;33m(\u001b[0m\u001b[0meggs\u001b[0m\u001b[1;33m.\u001b[0m\u001b[0mcasefold\u001b[0m\u001b[1;33m(\u001b[0m\u001b[1;33m)\u001b[0m\u001b[1;33m==\u001b[0m\u001b[0mbacon\u001b[0m\u001b[1;33m.\u001b[0m\u001b[0mcasefold\u001b[0m\u001b[1;33m(\u001b[0m\u001b[1;33m)\u001b[0m\u001b[1;33m)\u001b[0m\u001b[1;33m,\u001b[0m\u001b[1;34m'strings should not be same'\u001b[0m\u001b[1;33m\u001b[0m\u001b[1;33m\u001b[0m\u001b[0m\n\u001b[0m",
      "\u001b[1;31mAssertionError\u001b[0m: strings should not be same"
     ]
    }
   ],
   "source": [
    "#ANSWER 2:\n",
    "\n",
    "eggs=input(\"enter string 1 : \")\n",
    "bacon=input(\"enter string 2 : \")\n",
    "assert not (eggs.casefold()==bacon.casefold()),'strings should not be same'"
   ]
  },
  {
   "cell_type": "code",
   "execution_count": 11,
   "id": "01d09b57",
   "metadata": {},
   "outputs": [
    {
     "ename": "AssertionError",
     "evalue": "throw assertion error always.....",
     "output_type": "error",
     "traceback": [
      "\u001b[1;31m---------------------------------------------------------------------------\u001b[0m",
      "\u001b[1;31mAssertionError\u001b[0m                            Traceback (most recent call last)",
      "\u001b[1;32m~\\AppData\\Local\\Temp\\ipykernel_1016\\2457190954.py\u001b[0m in \u001b[0;36m<module>\u001b[1;34m\u001b[0m\n\u001b[0;32m      1\u001b[0m \u001b[1;31m# ANSWER 3:\u001b[0m\u001b[1;33m\u001b[0m\u001b[1;33m\u001b[0m\u001b[0m\n\u001b[0;32m      2\u001b[0m \u001b[1;33m\u001b[0m\u001b[0m\n\u001b[1;32m----> 3\u001b[1;33m \u001b[1;32massert\u001b[0m \u001b[1;32mFalse\u001b[0m\u001b[1;33m,\u001b[0m\u001b[1;34m'throw assertion error always.....'\u001b[0m\u001b[1;33m\u001b[0m\u001b[1;33m\u001b[0m\u001b[0m\n\u001b[0m",
      "\u001b[1;31mAssertionError\u001b[0m: throw assertion error always....."
     ]
    }
   ],
   "source": [
    "# ANSWER 3:\n",
    "    \n",
    "assert False,'throw assertion error always.....'"
   ]
  },
  {
   "cell_type": "code",
   "execution_count": 12,
   "id": "d4a12b21",
   "metadata": {},
   "outputs": [],
   "source": [
    "#ANSWER 4:\n",
    "    \n",
    "import logging\n",
    "logging.basicConfig(level=logging.DEBUG, format=' %(asctime)s -%(levelname)s - %(message)s')"
   ]
  },
  {
   "cell_type": "code",
   "execution_count": 13,
   "id": "89695c7c",
   "metadata": {},
   "outputs": [],
   "source": [
    "#ANSWER 5:\n",
    "    \n",
    "import logging\n",
    "logging.basicConfig(filename='programLog.txt', level=logging.DEBUG,format=' %(asctime)s - %(levelname)s - %(message)s')"
   ]
  },
  {
   "cell_type": "code",
   "execution_count": null,
   "id": "fd896852",
   "metadata": {},
   "outputs": [],
   "source": [
    "ANSWER 6:\n",
    "    \n",
    "DEBUG, INFO, WARNING, ERROR, and CRITICAL"
   ]
  },
  {
   "cell_type": "code",
   "execution_count": 14,
   "id": "303436d8",
   "metadata": {},
   "outputs": [],
   "source": [
    "#ANSWER 7:\n",
    "\n",
    "logging.disable = True"
   ]
  },
  {
   "cell_type": "code",
   "execution_count": null,
   "id": "fac1f1de",
   "metadata": {},
   "outputs": [],
   "source": [
    "ANSWER 8:\n",
    "    \n",
    "Post devlopment of your code, you can disable logging messages without removing the logging function, whereas you need to \n",
    "manually remove print() statements, which is tedious activity. and also print is used when you want to display any \n",
    "particular message or help whereas logging is used to record all events like error, info, debug messages, timestamps."
   ]
  },
  {
   "cell_type": "code",
   "execution_count": null,
   "id": "13e6bf15",
   "metadata": {},
   "outputs": [],
   "source": [
    "ANSWER 9:\n",
    "    \n",
    "Step in - Step In button will cause the debugger to execute the next line of code and then pause again.\n",
    "\n",
    "Step Over - Step Over button will execute the next line of code, similar to the Step In button. However, if the next line \n",
    "of code is a function call, the Step Over button will “step over” the code in the function. The function’s code will be \n",
    "executed at full speed, and the debugger will pause as soon as the function call returns.\n",
    "\n",
    "Step out - Step Out button will cause the debugger to execute lines of code at full speed until it returns from the current \n",
    "function."
   ]
  },
  {
   "cell_type": "code",
   "execution_count": null,
   "id": "e598c9ba",
   "metadata": {},
   "outputs": [],
   "source": [
    "ANSWER 10:\n",
    "    \n",
    "This will cause the program to continue running normally, without pausing for debugging untill it terminates or reaches \n",
    "a breakpoint."
   ]
  },
  {
   "cell_type": "code",
   "execution_count": null,
   "id": "c133464e",
   "metadata": {},
   "outputs": [],
   "source": [
    "ANSWER 11:\n",
    "    \n",
    "A breakpoint is a setting on a line of code that causes the debugger to pause when the program execution reaches the line."
   ]
  }
 ],
 "metadata": {
  "kernelspec": {
   "display_name": "Python 3 (ipykernel)",
   "language": "python",
   "name": "python3"
  },
  "language_info": {
   "codemirror_mode": {
    "name": "ipython",
    "version": 3
   },
   "file_extension": ".py",
   "mimetype": "text/x-python",
   "name": "python",
   "nbconvert_exporter": "python",
   "pygments_lexer": "ipython3",
   "version": "3.9.13"
  }
 },
 "nbformat": 4,
 "nbformat_minor": 5
}
