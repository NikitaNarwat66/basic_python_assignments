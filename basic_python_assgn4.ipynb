{
 "cells": [
  {
   "cell_type": "code",
   "execution_count": 7,
   "id": "09c49fe4",
   "metadata": {},
   "outputs": [
    {
     "data": {
      "text/plain": [
       "[0, 1, 2, 3, 4, 5, 6, 7, 8, 9]"
      ]
     },
     "execution_count": 7,
     "metadata": {},
     "output_type": "execute_result"
    }
   ],
   "source": [
    "# ANSWER1:\n",
    "\n",
    "# [] contains a empty list value, which is a list value that contains no items.\n",
    "# example:\n",
    "l=[]   \n",
    "for i in range(0,10):  \n",
    "    l.append(i)\n",
    "l"
   ]
  },
  {
   "cell_type": "code",
   "execution_count": 10,
   "id": "9f9fe1f7",
   "metadata": {},
   "outputs": [
    {
     "name": "stdout",
     "output_type": "stream",
     "text": [
      "[2, 4, 6, 8, 10]\n",
      "[2, 4, 'hello', 8, 10]\n"
     ]
    }
   ],
   "source": [
    "#ANSWER2:\n",
    "\n",
    "spam=[2,4,6,8,10]\n",
    "print(spam)\n",
    "spam[2]=\"hello\"\n",
    "print(spam)"
   ]
  },
  {
   "cell_type": "code",
   "execution_count": 12,
   "id": "bdb155eb",
   "metadata": {},
   "outputs": [
    {
     "data": {
      "text/plain": [
       "'d'"
      ]
     },
     "execution_count": 12,
     "metadata": {},
     "output_type": "execute_result"
    }
   ],
   "source": [
    "#ANSWER3:\n",
    "    \n",
    "spam=['a','b','c','d']\n",
    "spam[int(int('3'*2)/11)]"
   ]
  },
  {
   "cell_type": "code",
   "execution_count": 13,
   "id": "a13b8ad5",
   "metadata": {},
   "outputs": [
    {
     "data": {
      "text/plain": [
       "'d'"
      ]
     },
     "execution_count": 13,
     "metadata": {},
     "output_type": "execute_result"
    }
   ],
   "source": [
    "#ANSWER4:\n",
    "    \n",
    "spam[-1]"
   ]
  },
  {
   "cell_type": "code",
   "execution_count": 15,
   "id": "7ff6eb0b",
   "metadata": {},
   "outputs": [
    {
     "data": {
      "text/plain": [
       "['a', 'b']"
      ]
     },
     "execution_count": 15,
     "metadata": {},
     "output_type": "execute_result"
    }
   ],
   "source": [
    "#ANSWER5:\n",
    "    \n",
    "spam[:2]"
   ]
  },
  {
   "cell_type": "code",
   "execution_count": 23,
   "id": "c186819a",
   "metadata": {},
   "outputs": [
    {
     "data": {
      "text/plain": [
       "1"
      ]
     },
     "execution_count": 23,
     "metadata": {},
     "output_type": "execute_result"
    }
   ],
   "source": [
    "#ANSWER6:\n",
    "    \n",
    "bacon=[3.14, 'cat', 11, 'cat', True]\n",
    "bacon.index('cat')"
   ]
  },
  {
   "cell_type": "code",
   "execution_count": 24,
   "id": "008a5e28",
   "metadata": {},
   "outputs": [
    {
     "data": {
      "text/plain": [
       "[3.14, 'cat', 11, 'cat', True, 99]"
      ]
     },
     "execution_count": 24,
     "metadata": {},
     "output_type": "execute_result"
    }
   ],
   "source": [
    "#ANSWER7:\n",
    "    \n",
    "bacon.append(99)\n",
    "bacon"
   ]
  },
  {
   "cell_type": "code",
   "execution_count": 26,
   "id": "3af71f5a",
   "metadata": {},
   "outputs": [
    {
     "data": {
      "text/plain": [
       "[3.14, 11, True, 99]"
      ]
     },
     "execution_count": 26,
     "metadata": {},
     "output_type": "execute_result"
    }
   ],
   "source": [
    "#ANSWER8:\n",
    "    \n",
    "bacon.remove('cat')\n",
    "bacon"
   ]
  },
  {
   "cell_type": "code",
   "execution_count": null,
   "id": "49b02d90",
   "metadata": {},
   "outputs": [],
   "source": [
    "ANSWER9:\n",
    "    \n",
    "+ : This operator is for list concatenation.\n",
    "* : This operator is for list replication."
   ]
  },
  {
   "cell_type": "code",
   "execution_count": 33,
   "id": "d18dfe90",
   "metadata": {},
   "outputs": [
    {
     "name": "stdout",
     "output_type": "stream",
     "text": [
      "this is the list after using append()\n",
      "[1, 2, 3, 4, 5]\n",
      "this is the list after using insert()\n"
     ]
    },
    {
     "data": {
      "text/plain": [
       "[1, 8, 2, 3, 4]"
      ]
     },
     "execution_count": 33,
     "metadata": {},
     "output_type": "execute_result"
    }
   ],
   "source": [
    "#ANSWER10:\n",
    "    \n",
    "# append(): It will add values only to the end of a list.\n",
    "# example:\n",
    "\n",
    "l=[1,2,3,4]\n",
    "print(\"this is the list after using append()\")\n",
    "l.append(5)\n",
    "print(l)\n",
    "\n",
    "#insert(): It will add values anywhere in the list.\n",
    "\n",
    "l=[1,2,3,4]\n",
    "print(\"this is the list after using insert()\")\n",
    "l.insert(1,8)\n",
    "l"
   ]
  },
  {
   "cell_type": "code",
   "execution_count": null,
   "id": "f8d07d32",
   "metadata": {},
   "outputs": [],
   "source": [
    "ANSWER11:\n",
    "    \n",
    "Two methods to remove values from a list are:\n",
    "1) del statement\n",
    "2) remove()"
   ]
  },
  {
   "cell_type": "code",
   "execution_count": null,
   "id": "0686be73",
   "metadata": {},
   "outputs": [],
   "source": [
    "ANSWER12:\n",
    "    \n",
    "list values and string values are identical because both have indexes, can be passed to len() and have slices. They can be \n",
    "used in for loops, can be concatenated or replicated and can be used with the in and not in operators."
   ]
  },
  {
   "cell_type": "code",
   "execution_count": null,
   "id": "7a0a5602",
   "metadata": {},
   "outputs": [],
   "source": [
    "ANSWER13:\n",
    "    \n",
    "The main difference between tuples and lists is that the tuples are immutable and lists are mutable.\n",
    "secondly, tuples are written in () and lists are written in []."
   ]
  },
  {
   "cell_type": "code",
   "execution_count": 36,
   "id": "96288f02",
   "metadata": {},
   "outputs": [
    {
     "data": {
      "text/plain": [
       "(42,)"
      ]
     },
     "execution_count": 36,
     "metadata": {},
     "output_type": "execute_result"
    }
   ],
   "source": [
    "#ANSWER14:\n",
    "    \n",
    "t=(42,)\n",
    "t"
   ]
  },
  {
   "cell_type": "code",
   "execution_count": null,
   "id": "55b89c43",
   "metadata": {},
   "outputs": [],
   "source": [
    "ANSWER15:\n",
    "    \n",
    "By using tuple() and list() functions.\n"
   ]
  },
  {
   "cell_type": "code",
   "execution_count": null,
   "id": "ece28754",
   "metadata": {},
   "outputs": [],
   "source": [
    "ANSWER16:\n",
    "    \n",
    "They contain references to list values."
   ]
  },
  {
   "cell_type": "code",
   "execution_count": null,
   "id": "980431ab",
   "metadata": {},
   "outputs": [],
   "source": [
    "ANSWER17:\n",
    "    \n",
    "copy.copy() will do a shallow copy of a list, while the copy.deepcopy() will do a deep copy of a list.\n",
    "In Shallow copy, a copy of the original object is stored and only the reference address is finally copied. \n",
    "In Deep copy, the copy of the original object and the repetitive copies both are stored."
   ]
  }
 ],
 "metadata": {
  "kernelspec": {
   "display_name": "Python 3 (ipykernel)",
   "language": "python",
   "name": "python3"
  },
  "language_info": {
   "codemirror_mode": {
    "name": "ipython",
    "version": 3
   },
   "file_extension": ".py",
   "mimetype": "text/x-python",
   "name": "python",
   "nbconvert_exporter": "python",
   "pygments_lexer": "ipython3",
   "version": "3.9.13"
  }
 },
 "nbformat": 4,
 "nbformat_minor": 5
}
