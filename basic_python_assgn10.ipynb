{
 "cells": [
  {
   "cell_type": "markdown",
   "id": "fd5e0633",
   "metadata": {},
   "source": [
    "# ASSIGNMENT 10"
   ]
  },
  {
   "cell_type": "code",
   "execution_count": null,
   "id": "3b742f89",
   "metadata": {},
   "outputs": [],
   "source": [
    "ANSWER 1:\n",
    "    \n",
    "shutil.copy() will copy a single file.\n",
    "shutil.copytree() will copy an entire folder and every folder and file contained in it.\n"
   ]
  },
  {
   "cell_type": "code",
   "execution_count": null,
   "id": "656d1000",
   "metadata": {},
   "outputs": [],
   "source": [
    "ANSWER 2:\n",
    "    \n",
    "os.rename() function"
   ]
  },
  {
   "cell_type": "code",
   "execution_count": null,
   "id": "494f4e1e",
   "metadata": {},
   "outputs": [],
   "source": [
    "ANSWER 3:\n",
    "    \n",
    "The send2trash functions will move a file or folder to the recycle bin, while shutil functions will permanently delete\n",
    "files and folders."
   ]
  },
  {
   "cell_type": "code",
   "execution_count": null,
   "id": "6a5ed007",
   "metadata": {},
   "outputs": [],
   "source": [
    "ANSWER 4:\n",
    "    \n",
    "The zipfile.ZipFile() function is equivalent to the open() function; the first argument is the filename, and the second \n",
    "argument is the mode to open the ZIP file in (read, write, or append)."
   ]
  },
  {
   "cell_type": "code",
   "execution_count": 1,
   "id": "8bb30c8f",
   "metadata": {},
   "outputs": [],
   "source": [
    "#ANSWER 5:\n",
    "    \n",
    "import os\n",
    "import shutil\n",
    "\n",
    "def search_and_copy(source,destination,exts):\n",
    "    source = os.path.abspath(source)\n",
    "    destination = os.path.abspath(destination)\n",
    "    for foldername, s_folder, f_names in os.walk(source):\n",
    "        print(f'Folder Name ➞ {foldername}',end='\\n\\n')\n",
    "        print(f'Sub Folders ➞ {s_folder}',end='\\n\\n')\n",
    "        print(f'Files ➞ {f_names}',end='\\n\\n')\n",
    "        for f_name in f_names:\n",
    "            f_name,ext = os.path.splitext(f_name)\n",
    "            if ext in exts:\n",
    "                targetFile = foldername+os.path.sep+f_name+ext\n",
    "                shutil.copy(targetFile, destination)\n",
    "        print(f'Files copied successfully from {source} to {destination}')\n",
    "    \n",
    "exts = ['.pdf','.jpg','.ipynb']\n",
    "source = 'Dummy Source'\n",
    "destination = 'Dummy Destination'\n",
    "search_and_copy(source, destination, exts)"
   ]
  }
 ],
 "metadata": {
  "kernelspec": {
   "display_name": "Python 3 (ipykernel)",
   "language": "python",
   "name": "python3"
  },
  "language_info": {
   "codemirror_mode": {
    "name": "ipython",
    "version": 3
   },
   "file_extension": ".py",
   "mimetype": "text/x-python",
   "name": "python",
   "nbconvert_exporter": "python",
   "pygments_lexer": "ipython3",
   "version": "3.9.13"
  }
 },
 "nbformat": 4,
 "nbformat_minor": 5
}
